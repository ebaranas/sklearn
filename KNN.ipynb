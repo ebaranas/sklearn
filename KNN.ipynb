{
  "nbformat": 4,
  "nbformat_minor": 0,
  "metadata": {
    "colab": {
      "name": "KNN.ipynb",
      "version": "0.3.2",
      "provenance": [],
      "collapsed_sections": [],
      "include_colab_link": true
    },
    "kernelspec": {
      "name": "python3",
      "display_name": "Python 3"
    }
  },
  "cells": [
    {
      "cell_type": "markdown",
      "metadata": {
        "id": "view-in-github",
        "colab_type": "text"
      },
      "source": [
        "<a href=\"https://colab.research.google.com/github/ebaranas/sklearn/blob/master/KNN.ipynb\" target=\"_parent\"><img src=\"https://colab.research.google.com/assets/colab-badge.svg\" alt=\"Open In Colab\"/></a>"
      ]
    },
    {
      "metadata": {
        "id": "4MpkajEYCP4b",
        "colab_type": "code",
        "colab": {}
      },
      "cell_type": "code",
      "source": [
        "import random\n",
        "import numpy as np\n",
        "\n",
        "class Cluster(object):\n",
        "  def __init__(self, head):\n",
        "    self.head = head\n",
        "    self.members = {head}\n",
        "  \n",
        "  def assign_member(self, point):\n",
        "    self.members.add(point)\n",
        "    \n",
        "  def get_mean(self):\n",
        "    x_members = [member[0] for member in self.members]\n",
        "    y_members = [member[1] for member in self.members]\n",
        "    return (np.mean(x_members), np.mean(y_members))\n",
        "    \n",
        "    \n",
        "def KNN(points, num_clusters):\n",
        "  flag = True\n",
        "  iterations = 0\n",
        "  \n",
        "  while flag == True and iterations < 10:\n",
        "    clusters, choices = choose_clusters(points, num_clusters)\n",
        "    assign_points(clusters, choices)\n",
        "    clusters_mean = recluster(clusters, points)\n",
        "      print('0', clusters[0].head, clusters[0].members)\n",
        "    print('1', clusters[1].head, clusters[1].members)\n",
        "    flag = did_cluster_change(clusters, clusters_mean, flag)\n",
        "    iterations = iterations + 1\n",
        "  \n",
        "\n",
        "def did_cluster_change(clusters, new_clusters, flag):\n",
        "  for i in range(num_clusters):\n",
        "    new_clusters[i].members.remove(new_clusters[i].head)\n",
        "    if clusters[i].members != new_clusters[i].members:\n",
        "      return True\n",
        "  return False\n",
        "\n",
        "  # recluster based on the mean\n",
        "#   print('0', clusters[0].head, clusters[0].members)\n",
        "#   print('1', clusters[1].head, clusters[1].members)\n",
        "\n",
        "  \n",
        "\n",
        "def choose_clusters(points, num_clusters):\n",
        "  clusters = []\n",
        "  choices = list(points)\n",
        "  for i in range(num_clusters):\n",
        "    head = random.choice(choices)\n",
        "    choices.remove(head)\n",
        "    clusters.append(Cluster(head))\n",
        "  return clusters, choices\n",
        "\n",
        "def assign_points(clusters, choices):\n",
        "  for point in choices:\n",
        "    distances = [get_distance(point, cluster.head) for cluster in clusters]\n",
        "    minidx = distances.index(min(distances))\n",
        "    clusters[minidx].assign_member(point)\n",
        "\n",
        "def recluster(clusters, points):\n",
        "  new_clusters = []\n",
        "  for cluster in clusters:\n",
        "    mean = cluster.get_mean()\n",
        "    new_clusters.append(Cluster(mean))\n",
        "  assign_points(new_clusters, points)\n",
        "  return new_clusters\n",
        "    \n",
        "\n",
        "  \n",
        "    \n",
        "  clusters = [cluster.get_mean() for cluster in clusters]\n",
        "  return clusters\n",
        "\n",
        "    \n",
        "def get_distance(source, target):\n",
        "  return np.sqrt((source[0] - target[0])**2 + (source[1] - target[1])**2)\n",
        "    "
      ],
      "execution_count": 0,
      "outputs": []
    },
    {
      "metadata": {
        "id": "dbp5FSxIGXXi",
        "colab_type": "code",
        "outputId": "e6b382f7-ee96-4299-8e45-bfc246455189",
        "colab": {
          "base_uri": "https://localhost:8080/",
          "height": 34
        }
      },
      "cell_type": "code",
      "source": [
        "points = [(1, 1), (2, 2), (-1, -1), (-2, -2), (1.2, 1.2), (-1.2, -1.2)]\n",
        "num_clusters = 2\n",
        "KNN(points, num_clusters)"
      ],
      "execution_count": 59,
      "outputs": [
        {
          "output_type": "execute_result",
          "data": {
            "text/plain": [
              "[{(-2, -2), (-1.2, -1.2), (-1, -1)}, {(1, 1), (1.2, 1.2), (2, 2)}]"
            ]
          },
          "metadata": {
            "tags": []
          },
          "execution_count": 59
        }
      ]
    },
    {
      "metadata": {
        "id": "2Y2i5aEUKQRI",
        "colab_type": "code",
        "outputId": "209982d0-f32d-407f-fb9a-95ad94761833",
        "colab": {
          "base_uri": "https://localhost:8080/",
          "height": 162
        }
      },
      "cell_type": "code",
      "source": [
        "clusters[0].members"
      ],
      "execution_count": 0,
      "outputs": [
        {
          "output_type": "error",
          "ename": "NameError",
          "evalue": "ignored",
          "traceback": [
            "\u001b[0;31m---------------------------------------------------------------------------\u001b[0m",
            "\u001b[0;31mNameError\u001b[0m                                 Traceback (most recent call last)",
            "\u001b[0;32m<ipython-input-30-ff9bed90ce61>\u001b[0m in \u001b[0;36m<module>\u001b[0;34m()\u001b[0m\n\u001b[0;32m----> 1\u001b[0;31m \u001b[0mclusters\u001b[0m\u001b[0;34m[\u001b[0m\u001b[0;36m0\u001b[0m\u001b[0;34m]\u001b[0m\u001b[0;34m.\u001b[0m\u001b[0mmembers\u001b[0m\u001b[0;34m\u001b[0m\u001b[0;34m\u001b[0m\u001b[0m\n\u001b[0m",
            "\u001b[0;31mNameError\u001b[0m: name 'clusters' is not defined"
          ]
        }
      ]
    },
    {
      "metadata": {
        "id": "w83dUfNTJV7r",
        "colab_type": "code",
        "colab": {}
      },
      "cell_type": "code",
      "source": [
        "foo = [1, 2]\n",
        "foo.remove(2)"
      ],
      "execution_count": 0,
      "outputs": []
    },
    {
      "metadata": {
        "id": "2gnh8Xm0L1rK",
        "colab_type": "code",
        "outputId": "114f20d6-8de9-498f-9416-69f1e0140a2a",
        "colab": {
          "base_uri": "https://localhost:8080/",
          "height": 34
        }
      },
      "cell_type": "code",
      "source": [
        "np.mean(foo)"
      ],
      "execution_count": 0,
      "outputs": [
        {
          "output_type": "execute_result",
          "data": {
            "text/plain": [
              "1.0"
            ]
          },
          "metadata": {
            "tags": []
          },
          "execution_count": 68
        }
      ]
    },
    {
      "metadata": {
        "id": "0bdrwm9zL5Ck",
        "colab_type": "code",
        "colab": {}
      },
      "cell_type": "code",
      "source": [
        "foox, fooy = list(zip((1,1),(2,2),(3,3)))"
      ],
      "execution_count": 0,
      "outputs": []
    },
    {
      "metadata": {
        "id": "wYzYQsdfJM-y",
        "colab_type": "code",
        "colab": {
          "base_uri": "https://localhost:8080/",
          "height": 34
        },
        "outputId": "abefb46c-f089-41d9-c991-8339649a551f"
      },
      "cell_type": "code",
      "source": [
        "np.mean(fooy)"
      ],
      "execution_count": 43,
      "outputs": [
        {
          "output_type": "execute_result",
          "data": {
            "text/plain": [
              "2.0"
            ]
          },
          "metadata": {
            "tags": []
          },
          "execution_count": 43
        }
      ]
    },
    {
      "metadata": {
        "id": "eILwxiwBJe5i",
        "colab_type": "code",
        "colab": {
          "base_uri": "https://localhost:8080/",
          "height": 181
        },
        "outputId": "cd3a97df-0f8d-4026-f602-1867b8597534"
      },
      "cell_type": "code",
      "source": [
        "foo = []\n"
      ],
      "execution_count": 37,
      "outputs": [
        {
          "output_type": "error",
          "ename": "IndexError",
          "evalue": "ignored",
          "traceback": [
            "\u001b[0;31m---------------------------------------------------------------------------\u001b[0m",
            "\u001b[0;31mIndexError\u001b[0m                                Traceback (most recent call last)",
            "\u001b[0;32m<ipython-input-37-bde1530d6229>\u001b[0m in \u001b[0;36m<module>\u001b[0;34m()\u001b[0m\n\u001b[1;32m      1\u001b[0m \u001b[0mfoo\u001b[0m \u001b[0;34m=\u001b[0m \u001b[0;34m[\u001b[0m\u001b[0;34m]\u001b[0m\u001b[0;34m\u001b[0m\u001b[0;34m\u001b[0m\u001b[0m\n\u001b[0;32m----> 2\u001b[0;31m \u001b[0mfoo\u001b[0m\u001b[0;34m[\u001b[0m\u001b[0;36m0\u001b[0m\u001b[0;34m]\u001b[0m\u001b[0;34m\u001b[0m\u001b[0;34m\u001b[0m\u001b[0m\n\u001b[0m",
            "\u001b[0;31mIndexError\u001b[0m: list index out of range"
          ]
        }
      ]
    },
    {
      "metadata": {
        "id": "AbKkwIOeMD45",
        "colab_type": "code",
        "colab": {}
      },
      "cell_type": "code",
      "source": [
        "foo = {1, 2}\n",
        "# foo.remove(1)"
      ],
      "execution_count": 0,
      "outputs": []
    },
    {
      "metadata": {
        "id": "RNmnuCPpZPbR",
        "colab_type": "code",
        "colab": {
          "base_uri": "https://localhost:8080/",
          "height": 34
        },
        "outputId": "b1975817-934e-4908-cd71-711e210764d5"
      },
      "cell_type": "code",
      "source": [
        "foo"
      ],
      "execution_count": 20,
      "outputs": [
        {
          "output_type": "execute_result",
          "data": {
            "text/plain": [
              "{1, 2}"
            ]
          },
          "metadata": {
            "tags": []
          },
          "execution_count": 20
        }
      ]
    },
    {
      "metadata": {
        "id": "Nvtua-1sZQDk",
        "colab_type": "code",
        "colab": {}
      },
      "cell_type": "code",
      "source": [
        "foo1 = {2, 1}"
      ],
      "execution_count": 0,
      "outputs": []
    },
    {
      "metadata": {
        "id": "5HudJRz6ZSJM",
        "colab_type": "code",
        "colab": {
          "base_uri": "https://localhost:8080/",
          "height": 34
        },
        "outputId": "385329ba-2dc5-48da-be24-819555581fdb"
      },
      "cell_type": "code",
      "source": [
        "foo == foo1"
      ],
      "execution_count": 22,
      "outputs": [
        {
          "output_type": "execute_result",
          "data": {
            "text/plain": [
              "True"
            ]
          },
          "metadata": {
            "tags": []
          },
          "execution_count": 22
        }
      ]
    },
    {
      "metadata": {
        "id": "kkrfziCtZTRn",
        "colab_type": "code",
        "colab": {}
      },
      "cell_type": "code",
      "source": [
        "import random\n",
        "import numpy as np\n",
        "\n",
        "class Cluster(object):\n",
        "  def __init__(self, head):\n",
        "    self.head = head\n",
        "    self.members = {head}\n",
        "  \n",
        "  def assign_member(self, point):\n",
        "    self.members.add(point)\n",
        "    \n",
        "  def get_mean(self):\n",
        "    x_members = [member[0] for member in self.members]\n",
        "    y_members = [member[1] for member in self.members]\n",
        "    return (np.mean(x_members), np.mean(y_members))\n",
        "    \n",
        "    \n",
        "def KNN(points, num_clusters):\n",
        "  flag = True\n",
        "  iterations = 0\n",
        "  \n",
        "  while flag == True and iterations < 10:\n",
        "    clusters, choices = choose_clusters(points, num_clusters)\n",
        "    assign_points(clusters, choices)\n",
        "    clusters_mean = recluster(clusters, points)\n",
        "    flag = did_cluster_change(clusters, clusters_mean, flag)\n",
        "    iterations = iterations + 1\n",
        "    \n",
        "  return [cluster.members for cluster in clusters]\n",
        "  \n",
        "\n",
        "def did_cluster_change(clusters, new_clusters, flag):\n",
        "  for i in range(num_clusters):\n",
        "    new_clusters[i].members.remove(new_clusters[i].head)\n",
        "    if clusters[i].members != new_clusters[i].members:\n",
        "      return True\n",
        "  return False\n",
        "\n",
        "def choose_clusters(points, num_clusters):\n",
        "  clusters = []\n",
        "  choices = list(points)\n",
        "  for i in range(num_clusters):\n",
        "    head = random.choice(choices)\n",
        "    choices.remove(head)\n",
        "    clusters.append(Cluster(head))\n",
        "  return clusters, choices\n",
        "\n",
        "def assign_points(clusters, choices):\n",
        "  for point in choices:\n",
        "    distances = [get_distance(point, cluster.head) for cluster in clusters]\n",
        "    minidx = distances.index(min(distances))\n",
        "    clusters[minidx].assign_member(point)\n",
        "\n",
        "def recluster(clusters, points):\n",
        "  new_clusters = []\n",
        "  for cluster in clusters:\n",
        "    mean = cluster.get_mean()\n",
        "    new_clusters.append(Cluster(mean))\n",
        "  assign_points(new_clusters, points)\n",
        "  return new_clusters\n",
        "    \n",
        "\n",
        "  \n",
        "    \n",
        "  clusters = [cluster.get_mean() for cluster in clusters]\n",
        "  return clusters\n",
        "\n",
        "    \n",
        "def get_distance(source, target):\n",
        "  return np.sqrt((source[0] - target[0])**2 + (source[1] - target[1])**2)\n",
        "    "
      ],
      "execution_count": 0,
      "outputs": []
    }
  ]
}