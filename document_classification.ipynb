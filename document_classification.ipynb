{
  "nbformat": 4,
  "nbformat_minor": 0,
  "metadata": {
    "colab": {
      "name": "document classification.ipynb",
      "version": "0.3.2",
      "provenance": [],
      "include_colab_link": true
    },
    "kernelspec": {
      "name": "python3",
      "display_name": "Python 3"
    }
  },
  "cells": [
    {
      "cell_type": "markdown",
      "metadata": {
        "id": "view-in-github",
        "colab_type": "text"
      },
      "source": [
        "<a href=\"https://colab.research.google.com/github/ebaranas/sklearn/blob/master/document_classification.ipynb\" target=\"_parent\"><img src=\"https://colab.research.google.com/assets/colab-badge.svg\" alt=\"Open In Colab\"/></a>"
      ]
    },
    {
      "metadata": {
        "id": "Akk48RGPsx3_",
        "colab_type": "code",
        "colab": {}
      },
      "cell_type": "code",
      "source": [
        "import sys\n",
        "from sklearn.feature_extraction.text import CountVectorizer\n",
        "from sklearn.feature_extraction.text import TfidfTransformer\n",
        "from sklearn.naive_bayes import MultinomialNB,GaussianNB\n",
        "from sklearn.pipeline import Pipeline\n",
        "from sklearn.svm import LinearSVC\n",
        "from sklearn.linear_model import SGDClassifier\n",
        "from sklearn.feature_extraction.text import HashingVectorizer\n",
        "import numpy as np\n",
        "\n",
        "\n",
        "if sys.version_info[0]>=3: raw_input=input\n",
        "transformer=HashingVectorizer(stop_words='english')\n",
        "\n",
        "_train=[]\n",
        "train_label=[]\n",
        "f=open('trainingdata.txt')\n",
        "for i in range(int(f.readline())):\n",
        "    s=f.readline().rstrip()\n",
        "    idx=s.find(' ')\n",
        "    _train.append(s[idx+1:])\n",
        "    train_label.append(int(s[:idx]))\n",
        "f.close()\n",
        "# train = transformer.fit_transform(_train)\n",
        "# svm=LinearSVC()\n",
        "# svm.fit(train,train_label)\n",
        "text_clf=Pipeline([('vect',CountVectorizer()),\n",
        "                   ('tfidf',TfidfTransformer()),\n",
        "                   ('clf', SGDClassifier(loss='hinge', penalty='l2',\n",
        "                                           alpha=1e-3, random_state=42,\n",
        "                                           max_iter=5, tol=None))])\n",
        "text_clf.fit(_train,train_label)\n",
        "test_data=[]\n",
        "for i in range(int(input())):\n",
        "    test_data.append(input())\n",
        "    for j in text_clf.predict(test_data):\n",
        "        print(j)\n",
        "    test_data=[]\n",
        "'''Strings in python cannot be modified once created, so essentially  creates a new string instance with the \n",
        "stripped content. The  removes characters from the right based on the argument specifying the set of characters \n",
        "to be removed.''"
      ],
      "execution_count": 0,
      "outputs": []
    }
  ]
}